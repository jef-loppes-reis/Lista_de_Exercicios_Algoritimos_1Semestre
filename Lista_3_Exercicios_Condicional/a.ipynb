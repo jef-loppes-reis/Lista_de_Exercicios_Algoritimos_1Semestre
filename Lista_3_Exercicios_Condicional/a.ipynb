{
 "cells": [
  {
   "cell_type": "code",
   "execution_count": 1,
   "metadata": {},
   "outputs": [],
   "source": [
    "import os"
   ]
  },
  {
   "cell_type": "code",
   "execution_count": 9,
   "metadata": {},
   "outputs": [],
   "source": [
    "pos = 0\n",
    "for file in os.listdir(r'C:\\Users\\jefer\\Documents\\Faculdade_Algoritmos\\ALGORITMOS E PROGRAMACAO - 1 SEMESTRE\\Lista_Exercicios_Condicional'):\n",
    "    if file.endswith(f'Ex{pos}.c'):\n",
    "        os.rename(file, f'Jeferson_UC22200711_Lista_03_Ex_{pos}.c')\n",
    "    pos = pos + 1"
   ]
  }
 ],
 "metadata": {
  "kernelspec": {
   "display_name": "Python 3.10.8 64-bit",
   "language": "python",
   "name": "python3"
  },
  "language_info": {
   "codemirror_mode": {
    "name": "ipython",
    "version": 3
   },
   "file_extension": ".py",
   "mimetype": "text/x-python",
   "name": "python",
   "nbconvert_exporter": "python",
   "pygments_lexer": "ipython3",
   "version": "3.10.8"
  },
  "orig_nbformat": 4,
  "vscode": {
   "interpreter": {
    "hash": "d9e469b9194d3847c228f86b27bfd54f507b3c6534cae16d55f0eee7b2243912"
   }
  }
 },
 "nbformat": 4,
 "nbformat_minor": 2
}
